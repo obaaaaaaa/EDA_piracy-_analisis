{
 "cells": [
  {
   "cell_type": "markdown",
   "metadata": {},
   "source": [
    "# EDA Piracy-Analisis"
   ]
  },
  {
   "cell_type": "markdown",
   "metadata": {},
   "source": [
    "<img src=\"https://www.cnet.com/a/img/resize/d197bb057a9d19485045f026c285f55797237d26/hub/2019/08/30/bfaa1e15-1383-4dd0-a8be-acb49dcb944f/piracy-phone-4.jpg?auto=webp&fit=crop&height=675&width=1200\">"
   ]
  },
  {
   "cell_type": "markdown",
   "metadata": {},
   "source": [
    "## Librerias"
   ]
  },
  {
   "cell_type": "code",
   "execution_count": 19,
   "metadata": {},
   "outputs": [],
   "source": [
    "import numpy as np\n",
    "import pandas as pd\n",
    "import matplotlib.pyplot as plt\n",
    "import seaborn as sns\n",
    "import scipy.stats as stats\n",
    "from datetime import datetime"
   ]
  },
  {
   "cell_type": "markdown",
   "metadata": {},
   "source": [
    "## Variables"
   ]
  },
  {
   "cell_type": "code",
   "execution_count": 20,
   "metadata": {},
   "outputs": [],
   "source": [
    "alpha = 0.05"
   ]
  },
  {
   "cell_type": "markdown",
   "metadata": {},
   "source": [
    "## Empezar la limpieza, el primer csv"
   ]
  },
  {
   "cell_type": "code",
   "execution_count": 21,
   "metadata": {},
   "outputs": [
    {
     "data": {
      "text/html": [
       "<div>\n",
       "<style scoped>\n",
       "    .dataframe tbody tr th:only-of-type {\n",
       "        vertical-align: middle;\n",
       "    }\n",
       "\n",
       "    .dataframe tbody tr th {\n",
       "        vertical-align: top;\n",
       "    }\n",
       "\n",
       "    .dataframe thead th {\n",
       "        text-align: right;\n",
       "    }\n",
       "</style>\n",
       "<table border=\"1\" class=\"dataframe\">\n",
       "  <thead>\n",
       "    <tr style=\"text-align: right;\">\n",
       "      <th></th>\n",
       "      <th>Title</th>\n",
       "      <th>url</th>\n",
       "      <th>source_link</th>\n",
       "      <th>date</th>\n",
       "      <th>type</th>\n",
       "      <th>year</th>\n",
       "    </tr>\n",
       "  </thead>\n",
       "  <tbody>\n",
       "    <tr>\n",
       "      <th>0</th>\n",
       "      <td>Jurassic World Fallen Kingdom</td>\n",
       "      <td>https://powvideo.org/tk6wsdhzmzl9</td>\n",
       "      <td>https://playdede.us/pelicula/jurassic_world_el...</td>\n",
       "      <td>06/11/2023 8:43</td>\n",
       "      <td>3</td>\n",
       "      <td>2018</td>\n",
       "    </tr>\n",
       "    <tr>\n",
       "      <th>1</th>\n",
       "      <td>Jurassic World Fallen Kingdom</td>\n",
       "      <td>https://powvideo.org/a3s0i9fmulr3</td>\n",
       "      <td>https://playdede.us/pelicula/jurassic_world_el...</td>\n",
       "      <td>06/11/2023 8:43</td>\n",
       "      <td>3</td>\n",
       "      <td>2018</td>\n",
       "    </tr>\n",
       "    <tr>\n",
       "      <th>2</th>\n",
       "      <td>Jurassic World Fallen Kingdom</td>\n",
       "      <td>https://powvideo.org/47nrvjqayy9m</td>\n",
       "      <td>https://playdede.us/pelicula/jurassic_world_el...</td>\n",
       "      <td>06/11/2023 8:43</td>\n",
       "      <td>3</td>\n",
       "      <td>2018</td>\n",
       "    </tr>\n",
       "    <tr>\n",
       "      <th>3</th>\n",
       "      <td>Jurassic World Fallen Kingdom</td>\n",
       "      <td>https://filemoon.sx/e/7ynant5ib50z</td>\n",
       "      <td>https://swatchseries.mx/movie/jurassic-world-f...</td>\n",
       "      <td>12/11/2023 3:53</td>\n",
       "      <td>3</td>\n",
       "      <td>2018</td>\n",
       "    </tr>\n",
       "    <tr>\n",
       "      <th>4</th>\n",
       "      <td>Jurassic World Fallen Kingdom</td>\n",
       "      <td>https://mixdrop.to/e/0v03xnddfrjpx0</td>\n",
       "      <td>https://assistironlinegratis.pro/jurassic-worl...</td>\n",
       "      <td>06/11/2023 12:52</td>\n",
       "      <td>3</td>\n",
       "      <td>2018</td>\n",
       "    </tr>\n",
       "  </tbody>\n",
       "</table>\n",
       "</div>"
      ],
      "text/plain": [
       "                           Title                                  url  \\\n",
       "0  Jurassic World Fallen Kingdom    https://powvideo.org/tk6wsdhzmzl9   \n",
       "1  Jurassic World Fallen Kingdom    https://powvideo.org/a3s0i9fmulr3   \n",
       "2  Jurassic World Fallen Kingdom    https://powvideo.org/47nrvjqayy9m   \n",
       "3  Jurassic World Fallen Kingdom   https://filemoon.sx/e/7ynant5ib50z   \n",
       "4  Jurassic World Fallen Kingdom  https://mixdrop.to/e/0v03xnddfrjpx0   \n",
       "\n",
       "                                         source_link              date  type  \\\n",
       "0  https://playdede.us/pelicula/jurassic_world_el...   06/11/2023 8:43     3   \n",
       "1  https://playdede.us/pelicula/jurassic_world_el...   06/11/2023 8:43     3   \n",
       "2  https://playdede.us/pelicula/jurassic_world_el...   06/11/2023 8:43     3   \n",
       "3  https://swatchseries.mx/movie/jurassic-world-f...   12/11/2023 3:53     3   \n",
       "4  https://assistironlinegratis.pro/jurassic-worl...  06/11/2023 12:52     3   \n",
       "\n",
       "   year  \n",
       "0  2018  \n",
       "1  2018  \n",
       "2  2018  \n",
       "3  2018  \n",
       "4  2018  "
      ]
     },
     "execution_count": 21,
     "metadata": {},
     "output_type": "execute_result"
    }
   ],
   "source": [
    "df1 = pd.read_csv('./data/raw/data_set_obada_excel.csv', on_bad_lines='skip', sep=\";\")\n",
    "df1.rename(columns={\"fecha\": \"date\"}, inplace=True)\n",
    "df1.rename(columns={\"origen\": \"source_link\"}, inplace=True)\n",
    "df1.head()"
   ]
  },
  {
   "cell_type": "markdown",
   "metadata": {},
   "source": [
    "## Importar el segundo csv"
   ]
  },
  {
   "cell_type": "code",
   "execution_count": 22,
   "metadata": {},
   "outputs": [
    {
     "data": {
      "text/html": [
       "<div>\n",
       "<style scoped>\n",
       "    .dataframe tbody tr th:only-of-type {\n",
       "        vertical-align: middle;\n",
       "    }\n",
       "\n",
       "    .dataframe tbody tr th {\n",
       "        vertical-align: top;\n",
       "    }\n",
       "\n",
       "    .dataframe thead th {\n",
       "        text-align: right;\n",
       "    }\n",
       "</style>\n",
       "<table border=\"1\" class=\"dataframe\">\n",
       "  <thead>\n",
       "    <tr style=\"text-align: right;\">\n",
       "      <th></th>\n",
       "      <th>Title</th>\n",
       "      <th>Rate</th>\n",
       "      <th>Money</th>\n",
       "    </tr>\n",
       "  </thead>\n",
       "  <tbody>\n",
       "    <tr>\n",
       "      <th>0</th>\n",
       "      <td>Jurassic World Fallen Kingdom</td>\n",
       "      <td>6.1</td>\n",
       "      <td>417,719,760</td>\n",
       "    </tr>\n",
       "    <tr>\n",
       "      <th>1</th>\n",
       "      <td>Minions</td>\n",
       "      <td>6.4</td>\n",
       "      <td>336,045,770</td>\n",
       "    </tr>\n",
       "    <tr>\n",
       "      <th>2</th>\n",
       "      <td>Jurassic World</td>\n",
       "      <td>6.9</td>\n",
       "      <td>653,406,625</td>\n",
       "    </tr>\n",
       "    <tr>\n",
       "      <th>3</th>\n",
       "      <td>Suits</td>\n",
       "      <td>8.4</td>\n",
       "      <td>NaN</td>\n",
       "    </tr>\n",
       "    <tr>\n",
       "      <th>4</th>\n",
       "      <td>Chicago Med</td>\n",
       "      <td>7.6</td>\n",
       "      <td>NaN</td>\n",
       "    </tr>\n",
       "  </tbody>\n",
       "</table>\n",
       "</div>"
      ],
      "text/plain": [
       "                           Title  Rate        Money\n",
       "0  Jurassic World Fallen Kingdom   6.1  417,719,760\n",
       "1                        Minions   6.4  336,045,770\n",
       "2                 Jurassic World   6.9  653,406,625\n",
       "3                          Suits   8.4          NaN\n",
       "4                    Chicago Med   7.6          NaN"
      ]
     },
     "execution_count": 22,
     "metadata": {},
     "output_type": "execute_result"
    }
   ],
   "source": [
    "df2 = pd.read_csv('./data/raw/data_set_obada2.csv', on_bad_lines='skip', sep=\";\")\n",
    "df2.head()"
   ]
  },
  {
   "cell_type": "markdown",
   "metadata": {},
   "source": [
    "## Juntar los dos csv en uno unico"
   ]
  },
  {
   "cell_type": "code",
   "execution_count": 23,
   "metadata": {},
   "outputs": [
    {
     "data": {
      "text/html": [
       "<div>\n",
       "<style scoped>\n",
       "    .dataframe tbody tr th:only-of-type {\n",
       "        vertical-align: middle;\n",
       "    }\n",
       "\n",
       "    .dataframe tbody tr th {\n",
       "        vertical-align: top;\n",
       "    }\n",
       "\n",
       "    .dataframe thead th {\n",
       "        text-align: right;\n",
       "    }\n",
       "</style>\n",
       "<table border=\"1\" class=\"dataframe\">\n",
       "  <thead>\n",
       "    <tr style=\"text-align: right;\">\n",
       "      <th></th>\n",
       "      <th>Title</th>\n",
       "      <th>url</th>\n",
       "      <th>source_link</th>\n",
       "      <th>date</th>\n",
       "      <th>type</th>\n",
       "      <th>year</th>\n",
       "      <th>Rate</th>\n",
       "      <th>Money</th>\n",
       "    </tr>\n",
       "  </thead>\n",
       "  <tbody>\n",
       "    <tr>\n",
       "      <th>0</th>\n",
       "      <td>Jurassic World Fallen Kingdom</td>\n",
       "      <td>https://powvideo.org/tk6wsdhzmzl9</td>\n",
       "      <td>https://playdede.us/pelicula/jurassic_world_el...</td>\n",
       "      <td>06/11/2023 8:43</td>\n",
       "      <td>3</td>\n",
       "      <td>2018</td>\n",
       "      <td>6.1</td>\n",
       "      <td>417,719,760</td>\n",
       "    </tr>\n",
       "    <tr>\n",
       "      <th>1</th>\n",
       "      <td>Jurassic World Fallen Kingdom</td>\n",
       "      <td>https://powvideo.org/a3s0i9fmulr3</td>\n",
       "      <td>https://playdede.us/pelicula/jurassic_world_el...</td>\n",
       "      <td>06/11/2023 8:43</td>\n",
       "      <td>3</td>\n",
       "      <td>2018</td>\n",
       "      <td>6.1</td>\n",
       "      <td>417,719,760</td>\n",
       "    </tr>\n",
       "    <tr>\n",
       "      <th>2</th>\n",
       "      <td>Jurassic World Fallen Kingdom</td>\n",
       "      <td>https://powvideo.org/47nrvjqayy9m</td>\n",
       "      <td>https://playdede.us/pelicula/jurassic_world_el...</td>\n",
       "      <td>06/11/2023 8:43</td>\n",
       "      <td>3</td>\n",
       "      <td>2018</td>\n",
       "      <td>6.1</td>\n",
       "      <td>417,719,760</td>\n",
       "    </tr>\n",
       "    <tr>\n",
       "      <th>3</th>\n",
       "      <td>Jurassic World Fallen Kingdom</td>\n",
       "      <td>https://filemoon.sx/e/7ynant5ib50z</td>\n",
       "      <td>https://swatchseries.mx/movie/jurassic-world-f...</td>\n",
       "      <td>12/11/2023 3:53</td>\n",
       "      <td>3</td>\n",
       "      <td>2018</td>\n",
       "      <td>6.1</td>\n",
       "      <td>417,719,760</td>\n",
       "    </tr>\n",
       "    <tr>\n",
       "      <th>4</th>\n",
       "      <td>Jurassic World Fallen Kingdom</td>\n",
       "      <td>https://mixdrop.to/e/0v03xnddfrjpx0</td>\n",
       "      <td>https://assistironlinegratis.pro/jurassic-worl...</td>\n",
       "      <td>06/11/2023 12:52</td>\n",
       "      <td>3</td>\n",
       "      <td>2018</td>\n",
       "      <td>6.1</td>\n",
       "      <td>417,719,760</td>\n",
       "    </tr>\n",
       "  </tbody>\n",
       "</table>\n",
       "</div>"
      ],
      "text/plain": [
       "                           Title                                  url  \\\n",
       "0  Jurassic World Fallen Kingdom    https://powvideo.org/tk6wsdhzmzl9   \n",
       "1  Jurassic World Fallen Kingdom    https://powvideo.org/a3s0i9fmulr3   \n",
       "2  Jurassic World Fallen Kingdom    https://powvideo.org/47nrvjqayy9m   \n",
       "3  Jurassic World Fallen Kingdom   https://filemoon.sx/e/7ynant5ib50z   \n",
       "4  Jurassic World Fallen Kingdom  https://mixdrop.to/e/0v03xnddfrjpx0   \n",
       "\n",
       "                                         source_link              date  type  \\\n",
       "0  https://playdede.us/pelicula/jurassic_world_el...   06/11/2023 8:43     3   \n",
       "1  https://playdede.us/pelicula/jurassic_world_el...   06/11/2023 8:43     3   \n",
       "2  https://playdede.us/pelicula/jurassic_world_el...   06/11/2023 8:43     3   \n",
       "3  https://swatchseries.mx/movie/jurassic-world-f...   12/11/2023 3:53     3   \n",
       "4  https://assistironlinegratis.pro/jurassic-worl...  06/11/2023 12:52     3   \n",
       "\n",
       "   year  Rate        Money  \n",
       "0  2018   6.1  417,719,760  \n",
       "1  2018   6.1  417,719,760  \n",
       "2  2018   6.1  417,719,760  \n",
       "3  2018   6.1  417,719,760  \n",
       "4  2018   6.1  417,719,760  "
      ]
     },
     "execution_count": 23,
     "metadata": {},
     "output_type": "execute_result"
    }
   ],
   "source": [
    "df3 = pd.merge(df1,\n",
    "               df2,\n",
    "               on='Title',\n",
    "               how='left')\n",
    "df3.head()"
   ]
  },
  {
   "cell_type": "markdown",
   "metadata": {},
   "source": [
    "## La segunda limpieza"
   ]
  },
  {
   "cell_type": "code",
   "execution_count": 18,
   "metadata": {},
   "outputs": [
    {
     "ename": "ValueError",
     "evalue": "time data \"2023-11-13 14:22:00\" doesn't match format \"%Y-%d-%m %H:%M:%S\", at position 51. You might want to try:\n    - passing `format` if your strings have a consistent format;\n    - passing `format='ISO8601'` if your strings are all ISO8601 but not necessarily in exactly the same format;\n    - passing `format='mixed'`, and the format will be inferred for each element individually. You might want to use `dayfirst` alongside this.",
     "output_type": "error",
     "traceback": [
      "\u001b[1;31m---------------------------------------------------------------------------\u001b[0m",
      "\u001b[1;31mValueError\u001b[0m                                Traceback (most recent call last)",
      "Cell \u001b[1;32mIn[18], line 2\u001b[0m\n\u001b[0;32m      1\u001b[0m \u001b[38;5;66;03m## Cambiar el tipo de dato de la columna date\u001b[39;00m\n\u001b[1;32m----> 2\u001b[0m df3[\u001b[38;5;124m'\u001b[39m\u001b[38;5;124mdate\u001b[39m\u001b[38;5;124m'\u001b[39m] \u001b[38;5;241m=\u001b[39m \u001b[43mpd\u001b[49m\u001b[38;5;241;43m.\u001b[39;49m\u001b[43mto_datetime\u001b[49m\u001b[43m(\u001b[49m\u001b[43mdf3\u001b[49m\u001b[43m[\u001b[49m\u001b[38;5;124;43m'\u001b[39;49m\u001b[38;5;124;43mdate\u001b[39;49m\u001b[38;5;124;43m'\u001b[39;49m\u001b[43m]\u001b[49m\u001b[43m,\u001b[49m\u001b[43m  \u001b[49m\u001b[43mdayfirst\u001b[49m\u001b[38;5;241;43m=\u001b[39;49m\u001b[38;5;28;43;01mTrue\u001b[39;49;00m\u001b[43m)\u001b[49m\n\u001b[0;32m      3\u001b[0m \u001b[38;5;66;03m## limpiar la columna Money\u001b[39;00m\n\u001b[0;32m      4\u001b[0m df3[\u001b[38;5;124m'\u001b[39m\u001b[38;5;124mMoney\u001b[39m\u001b[38;5;124m'\u001b[39m] \u001b[38;5;241m=\u001b[39m df3[\u001b[38;5;124m'\u001b[39m\u001b[38;5;124mMoney\u001b[39m\u001b[38;5;124m'\u001b[39m]\u001b[38;5;241m.\u001b[39mmap(\u001b[38;5;28;01mlambda\u001b[39;00m x: \u001b[38;5;28mint\u001b[39m(x\u001b[38;5;241m.\u001b[39mreplace(\u001b[38;5;124m'\u001b[39m\u001b[38;5;124m,\u001b[39m\u001b[38;5;124m'\u001b[39m, \u001b[38;5;124m'\u001b[39m\u001b[38;5;124m'\u001b[39m )) \u001b[38;5;28;01mif\u001b[39;00m \u001b[38;5;28mtype\u001b[39m(x) \u001b[38;5;241m==\u001b[39m \u001b[38;5;28mstr\u001b[39m \u001b[38;5;28;01melse\u001b[39;00m x)\n",
      "File \u001b[1;32mc:\\Users\\34625\\AppData\\Local\\Programs\\Python\\Python311\\Lib\\site-packages\\pandas\\core\\tools\\datetimes.py:1108\u001b[0m, in \u001b[0;36mto_datetime\u001b[1;34m(arg, errors, dayfirst, yearfirst, utc, format, exact, unit, infer_datetime_format, origin, cache)\u001b[0m\n\u001b[0;32m   1106\u001b[0m             result \u001b[38;5;241m=\u001b[39m arg\u001b[38;5;241m.\u001b[39mtz_localize(\u001b[38;5;124m\"\u001b[39m\u001b[38;5;124mutc\u001b[39m\u001b[38;5;124m\"\u001b[39m)\n\u001b[0;32m   1107\u001b[0m \u001b[38;5;28;01melif\u001b[39;00m \u001b[38;5;28misinstance\u001b[39m(arg, ABCSeries):\n\u001b[1;32m-> 1108\u001b[0m     cache_array \u001b[38;5;241m=\u001b[39m \u001b[43m_maybe_cache\u001b[49m\u001b[43m(\u001b[49m\u001b[43marg\u001b[49m\u001b[43m,\u001b[49m\u001b[43m \u001b[49m\u001b[38;5;28;43mformat\u001b[39;49m\u001b[43m,\u001b[49m\u001b[43m \u001b[49m\u001b[43mcache\u001b[49m\u001b[43m,\u001b[49m\u001b[43m \u001b[49m\u001b[43mconvert_listlike\u001b[49m\u001b[43m)\u001b[49m\n\u001b[0;32m   1109\u001b[0m     \u001b[38;5;28;01mif\u001b[39;00m \u001b[38;5;129;01mnot\u001b[39;00m cache_array\u001b[38;5;241m.\u001b[39mempty:\n\u001b[0;32m   1110\u001b[0m         result \u001b[38;5;241m=\u001b[39m arg\u001b[38;5;241m.\u001b[39mmap(cache_array)\n",
      "File \u001b[1;32mc:\\Users\\34625\\AppData\\Local\\Programs\\Python\\Python311\\Lib\\site-packages\\pandas\\core\\tools\\datetimes.py:254\u001b[0m, in \u001b[0;36m_maybe_cache\u001b[1;34m(arg, format, cache, convert_listlike)\u001b[0m\n\u001b[0;32m    252\u001b[0m unique_dates \u001b[38;5;241m=\u001b[39m unique(arg)\n\u001b[0;32m    253\u001b[0m \u001b[38;5;28;01mif\u001b[39;00m \u001b[38;5;28mlen\u001b[39m(unique_dates) \u001b[38;5;241m<\u001b[39m \u001b[38;5;28mlen\u001b[39m(arg):\n\u001b[1;32m--> 254\u001b[0m     cache_dates \u001b[38;5;241m=\u001b[39m \u001b[43mconvert_listlike\u001b[49m\u001b[43m(\u001b[49m\u001b[43munique_dates\u001b[49m\u001b[43m,\u001b[49m\u001b[43m \u001b[49m\u001b[38;5;28;43mformat\u001b[39;49m\u001b[43m)\u001b[49m\n\u001b[0;32m    255\u001b[0m     \u001b[38;5;66;03m# GH#45319\u001b[39;00m\n\u001b[0;32m    256\u001b[0m     \u001b[38;5;28;01mtry\u001b[39;00m:\n",
      "File \u001b[1;32mc:\\Users\\34625\\AppData\\Local\\Programs\\Python\\Python311\\Lib\\site-packages\\pandas\\core\\tools\\datetimes.py:488\u001b[0m, in \u001b[0;36m_convert_listlike_datetimes\u001b[1;34m(arg, format, name, utc, unit, errors, dayfirst, yearfirst, exact)\u001b[0m\n\u001b[0;32m    486\u001b[0m \u001b[38;5;66;03m# `format` could be inferred, or user didn't ask for mixed-format parsing.\u001b[39;00m\n\u001b[0;32m    487\u001b[0m \u001b[38;5;28;01mif\u001b[39;00m \u001b[38;5;28mformat\u001b[39m \u001b[38;5;129;01mis\u001b[39;00m \u001b[38;5;129;01mnot\u001b[39;00m \u001b[38;5;28;01mNone\u001b[39;00m \u001b[38;5;129;01mand\u001b[39;00m \u001b[38;5;28mformat\u001b[39m \u001b[38;5;241m!=\u001b[39m \u001b[38;5;124m\"\u001b[39m\u001b[38;5;124mmixed\u001b[39m\u001b[38;5;124m\"\u001b[39m:\n\u001b[1;32m--> 488\u001b[0m     \u001b[38;5;28;01mreturn\u001b[39;00m \u001b[43m_array_strptime_with_fallback\u001b[49m\u001b[43m(\u001b[49m\u001b[43marg\u001b[49m\u001b[43m,\u001b[49m\u001b[43m \u001b[49m\u001b[43mname\u001b[49m\u001b[43m,\u001b[49m\u001b[43m \u001b[49m\u001b[43mutc\u001b[49m\u001b[43m,\u001b[49m\u001b[43m \u001b[49m\u001b[38;5;28;43mformat\u001b[39;49m\u001b[43m,\u001b[49m\u001b[43m \u001b[49m\u001b[43mexact\u001b[49m\u001b[43m,\u001b[49m\u001b[43m \u001b[49m\u001b[43merrors\u001b[49m\u001b[43m)\u001b[49m\n\u001b[0;32m    490\u001b[0m result, tz_parsed \u001b[38;5;241m=\u001b[39m objects_to_datetime64ns(\n\u001b[0;32m    491\u001b[0m     arg,\n\u001b[0;32m    492\u001b[0m     dayfirst\u001b[38;5;241m=\u001b[39mdayfirst,\n\u001b[1;32m   (...)\u001b[0m\n\u001b[0;32m    496\u001b[0m     allow_object\u001b[38;5;241m=\u001b[39m\u001b[38;5;28;01mTrue\u001b[39;00m,\n\u001b[0;32m    497\u001b[0m )\n\u001b[0;32m    499\u001b[0m \u001b[38;5;28;01mif\u001b[39;00m tz_parsed \u001b[38;5;129;01mis\u001b[39;00m \u001b[38;5;129;01mnot\u001b[39;00m \u001b[38;5;28;01mNone\u001b[39;00m:\n\u001b[0;32m    500\u001b[0m     \u001b[38;5;66;03m# We can take a shortcut since the datetime64 numpy array\u001b[39;00m\n\u001b[0;32m    501\u001b[0m     \u001b[38;5;66;03m# is in UTC\u001b[39;00m\n",
      "File \u001b[1;32mc:\\Users\\34625\\AppData\\Local\\Programs\\Python\\Python311\\Lib\\site-packages\\pandas\\core\\tools\\datetimes.py:519\u001b[0m, in \u001b[0;36m_array_strptime_with_fallback\u001b[1;34m(arg, name, utc, fmt, exact, errors)\u001b[0m\n\u001b[0;32m    508\u001b[0m \u001b[38;5;28;01mdef\u001b[39;00m \u001b[38;5;21m_array_strptime_with_fallback\u001b[39m(\n\u001b[0;32m    509\u001b[0m     arg,\n\u001b[0;32m    510\u001b[0m     name,\n\u001b[1;32m   (...)\u001b[0m\n\u001b[0;32m    514\u001b[0m     errors: \u001b[38;5;28mstr\u001b[39m,\n\u001b[0;32m    515\u001b[0m ) \u001b[38;5;241m-\u001b[39m\u001b[38;5;241m>\u001b[39m Index:\n\u001b[0;32m    516\u001b[0m \u001b[38;5;250m    \u001b[39m\u001b[38;5;124;03m\"\"\"\u001b[39;00m\n\u001b[0;32m    517\u001b[0m \u001b[38;5;124;03m    Call array_strptime, with fallback behavior depending on 'errors'.\u001b[39;00m\n\u001b[0;32m    518\u001b[0m \u001b[38;5;124;03m    \"\"\"\u001b[39;00m\n\u001b[1;32m--> 519\u001b[0m     result, timezones \u001b[38;5;241m=\u001b[39m \u001b[43marray_strptime\u001b[49m\u001b[43m(\u001b[49m\u001b[43marg\u001b[49m\u001b[43m,\u001b[49m\u001b[43m \u001b[49m\u001b[43mfmt\u001b[49m\u001b[43m,\u001b[49m\u001b[43m \u001b[49m\u001b[43mexact\u001b[49m\u001b[38;5;241;43m=\u001b[39;49m\u001b[43mexact\u001b[49m\u001b[43m,\u001b[49m\u001b[43m \u001b[49m\u001b[43merrors\u001b[49m\u001b[38;5;241;43m=\u001b[39;49m\u001b[43merrors\u001b[49m\u001b[43m,\u001b[49m\u001b[43m \u001b[49m\u001b[43mutc\u001b[49m\u001b[38;5;241;43m=\u001b[39;49m\u001b[43mutc\u001b[49m\u001b[43m)\u001b[49m\n\u001b[0;32m    520\u001b[0m     \u001b[38;5;28;01mif\u001b[39;00m \u001b[38;5;28many\u001b[39m(tz \u001b[38;5;129;01mis\u001b[39;00m \u001b[38;5;129;01mnot\u001b[39;00m \u001b[38;5;28;01mNone\u001b[39;00m \u001b[38;5;28;01mfor\u001b[39;00m tz \u001b[38;5;129;01min\u001b[39;00m timezones):\n\u001b[0;32m    521\u001b[0m         \u001b[38;5;28;01mreturn\u001b[39;00m _return_parsed_timezone_results(result, timezones, utc, name)\n",
      "File \u001b[1;32mstrptime.pyx:534\u001b[0m, in \u001b[0;36mpandas._libs.tslibs.strptime.array_strptime\u001b[1;34m()\u001b[0m\n",
      "File \u001b[1;32mstrptime.pyx:355\u001b[0m, in \u001b[0;36mpandas._libs.tslibs.strptime.array_strptime\u001b[1;34m()\u001b[0m\n",
      "\u001b[1;31mValueError\u001b[0m: time data \"2023-11-13 14:22:00\" doesn't match format \"%Y-%d-%m %H:%M:%S\", at position 51. You might want to try:\n    - passing `format` if your strings have a consistent format;\n    - passing `format='ISO8601'` if your strings are all ISO8601 but not necessarily in exactly the same format;\n    - passing `format='mixed'`, and the format will be inferred for each element individually. You might want to use `dayfirst` alongside this."
     ]
    }
   ],
   "source": [
    "## Cambiar el tipo de dato de la columna date\n",
    "df3['date'] = pd.to_datetime(df3['date'],  dayfirst=True)\n",
    "## limpiar la columna Money\n",
    "df3['Money'] = df3['Money'].map(lambda x: int(x.replace(',', '' )) if type(x) == str else x)\n",
    "df3.head()\n",
    "df3.dtypes"
   ]
  },
  {
   "cell_type": "markdown",
   "metadata": {},
   "source": [
    "## Crear las columnas nuevas host + page + day"
   ]
  },
  {
   "cell_type": "code",
   "execution_count": 22,
   "metadata": {},
   "outputs": [
    {
     "data": {
      "text/html": [
       "<div>\n",
       "<style scoped>\n",
       "    .dataframe tbody tr th:only-of-type {\n",
       "        vertical-align: middle;\n",
       "    }\n",
       "\n",
       "    .dataframe tbody tr th {\n",
       "        vertical-align: top;\n",
       "    }\n",
       "\n",
       "    .dataframe thead th {\n",
       "        text-align: right;\n",
       "    }\n",
       "</style>\n",
       "<table border=\"1\" class=\"dataframe\">\n",
       "  <thead>\n",
       "    <tr style=\"text-align: right;\">\n",
       "      <th></th>\n",
       "      <th>Title</th>\n",
       "      <th>url</th>\n",
       "      <th>source_link</th>\n",
       "      <th>date</th>\n",
       "      <th>type</th>\n",
       "      <th>year</th>\n",
       "      <th>Rate</th>\n",
       "      <th>Money</th>\n",
       "      <th>host</th>\n",
       "      <th>page</th>\n",
       "      <th>day</th>\n",
       "    </tr>\n",
       "  </thead>\n",
       "  <tbody>\n",
       "    <tr>\n",
       "      <th>0</th>\n",
       "      <td>Jurassic World Fallen Kingdom</td>\n",
       "      <td>https://powvideo.org/tk6wsdhzmzl9</td>\n",
       "      <td>https://playdede.us/pelicula/jurassic_world_el...</td>\n",
       "      <td>2023-11-06 08:43:00</td>\n",
       "      <td>3</td>\n",
       "      <td>2018</td>\n",
       "      <td>6.1</td>\n",
       "      <td>417719760.0</td>\n",
       "      <td>powvideo.org</td>\n",
       "      <td>playdede.us</td>\n",
       "      <td>Monday</td>\n",
       "    </tr>\n",
       "    <tr>\n",
       "      <th>1</th>\n",
       "      <td>Jurassic World Fallen Kingdom</td>\n",
       "      <td>https://powvideo.org/a3s0i9fmulr3</td>\n",
       "      <td>https://playdede.us/pelicula/jurassic_world_el...</td>\n",
       "      <td>2023-11-06 08:43:00</td>\n",
       "      <td>3</td>\n",
       "      <td>2018</td>\n",
       "      <td>6.1</td>\n",
       "      <td>417719760.0</td>\n",
       "      <td>powvideo.org</td>\n",
       "      <td>playdede.us</td>\n",
       "      <td>Monday</td>\n",
       "    </tr>\n",
       "    <tr>\n",
       "      <th>2</th>\n",
       "      <td>Jurassic World Fallen Kingdom</td>\n",
       "      <td>https://powvideo.org/47nrvjqayy9m</td>\n",
       "      <td>https://playdede.us/pelicula/jurassic_world_el...</td>\n",
       "      <td>2023-11-06 08:43:00</td>\n",
       "      <td>3</td>\n",
       "      <td>2018</td>\n",
       "      <td>6.1</td>\n",
       "      <td>417719760.0</td>\n",
       "      <td>powvideo.org</td>\n",
       "      <td>playdede.us</td>\n",
       "      <td>Monday</td>\n",
       "    </tr>\n",
       "    <tr>\n",
       "      <th>3</th>\n",
       "      <td>Jurassic World Fallen Kingdom</td>\n",
       "      <td>https://filemoon.sx/e/7ynant5ib50z</td>\n",
       "      <td>https://swatchseries.mx/movie/jurassic-world-f...</td>\n",
       "      <td>2023-11-12 03:53:00</td>\n",
       "      <td>3</td>\n",
       "      <td>2018</td>\n",
       "      <td>6.1</td>\n",
       "      <td>417719760.0</td>\n",
       "      <td>filemoon.sx</td>\n",
       "      <td>swatchseries.mx</td>\n",
       "      <td>Sunday</td>\n",
       "    </tr>\n",
       "    <tr>\n",
       "      <th>4</th>\n",
       "      <td>Jurassic World Fallen Kingdom</td>\n",
       "      <td>https://mixdrop.to/e/0v03xnddfrjpx0</td>\n",
       "      <td>https://assistironlinegratis.pro/jurassic-worl...</td>\n",
       "      <td>2023-11-06 12:52:00</td>\n",
       "      <td>3</td>\n",
       "      <td>2018</td>\n",
       "      <td>6.1</td>\n",
       "      <td>417719760.0</td>\n",
       "      <td>mixdrop.to</td>\n",
       "      <td>assistironlinegratis.pro</td>\n",
       "      <td>Monday</td>\n",
       "    </tr>\n",
       "  </tbody>\n",
       "</table>\n",
       "</div>"
      ],
      "text/plain": [
       "                           Title                                  url  \\\n",
       "0  Jurassic World Fallen Kingdom    https://powvideo.org/tk6wsdhzmzl9   \n",
       "1  Jurassic World Fallen Kingdom    https://powvideo.org/a3s0i9fmulr3   \n",
       "2  Jurassic World Fallen Kingdom    https://powvideo.org/47nrvjqayy9m   \n",
       "3  Jurassic World Fallen Kingdom   https://filemoon.sx/e/7ynant5ib50z   \n",
       "4  Jurassic World Fallen Kingdom  https://mixdrop.to/e/0v03xnddfrjpx0   \n",
       "\n",
       "                                         source_link                date  \\\n",
       "0  https://playdede.us/pelicula/jurassic_world_el... 2023-11-06 08:43:00   \n",
       "1  https://playdede.us/pelicula/jurassic_world_el... 2023-11-06 08:43:00   \n",
       "2  https://playdede.us/pelicula/jurassic_world_el... 2023-11-06 08:43:00   \n",
       "3  https://swatchseries.mx/movie/jurassic-world-f... 2023-11-12 03:53:00   \n",
       "4  https://assistironlinegratis.pro/jurassic-worl... 2023-11-06 12:52:00   \n",
       "\n",
       "   type  year  Rate        Money          host                      page  \\\n",
       "0     3  2018   6.1  417719760.0  powvideo.org               playdede.us   \n",
       "1     3  2018   6.1  417719760.0  powvideo.org               playdede.us   \n",
       "2     3  2018   6.1  417719760.0  powvideo.org               playdede.us   \n",
       "3     3  2018   6.1  417719760.0   filemoon.sx           swatchseries.mx   \n",
       "4     3  2018   6.1  417719760.0    mixdrop.to  assistironlinegratis.pro   \n",
       "\n",
       "      day  \n",
       "0  Monday  \n",
       "1  Monday  \n",
       "2  Monday  \n",
       "3  Sunday  \n",
       "4  Monday  "
      ]
     },
     "execution_count": 22,
     "metadata": {},
     "output_type": "execute_result"
    }
   ],
   "source": [
    "# extraer informacion extra de las columnas url + source_link\n",
    "df3['host'] = df3['url'].str.extract(r'://([^/]+)')\n",
    "df3['page'] = df3['source_link'].str.extract(r'://([^/]+)')\n",
    "## extraer el dia de la semana de la columna date y crear la columna day\n",
    "df3['day'] = df3['date'].dt.day_name()\n",
    "df3.head()"
   ]
  },
  {
   "cell_type": "markdown",
   "metadata": {},
   "source": [
    "## Guardar dataframe"
   ]
  },
  {
   "cell_type": "code",
   "execution_count": 23,
   "metadata": {},
   "outputs": [],
   "source": [
    "df3.to_csv('./data/final/data_set_final.csv', index=False)"
   ]
  },
  {
   "cell_type": "markdown",
   "metadata": {},
   "source": [
    "## Importar el csv final limpio"
   ]
  },
  {
   "cell_type": "code",
   "execution_count": 24,
   "metadata": {},
   "outputs": [],
   "source": [
    "df3 = pd.read_csv('./data/final/data_set_final.csv')"
   ]
  },
  {
   "cell_type": "markdown",
   "metadata": {},
   "source": [
    "## Ahora : EDA"
   ]
  },
  {
   "cell_type": "code",
   "execution_count": 25,
   "metadata": {},
   "outputs": [
    {
     "data": {
      "text/html": [
       "<div>\n",
       "<style scoped>\n",
       "    .dataframe tbody tr th:only-of-type {\n",
       "        vertical-align: middle;\n",
       "    }\n",
       "\n",
       "    .dataframe tbody tr th {\n",
       "        vertical-align: top;\n",
       "    }\n",
       "\n",
       "    .dataframe thead th {\n",
       "        text-align: right;\n",
       "    }\n",
       "</style>\n",
       "<table border=\"1\" class=\"dataframe\">\n",
       "  <thead>\n",
       "    <tr style=\"text-align: right;\">\n",
       "      <th></th>\n",
       "      <th>Title</th>\n",
       "      <th>url</th>\n",
       "      <th>source_link</th>\n",
       "      <th>date</th>\n",
       "      <th>type</th>\n",
       "      <th>year</th>\n",
       "      <th>Rate</th>\n",
       "      <th>Money</th>\n",
       "      <th>host</th>\n",
       "      <th>page</th>\n",
       "      <th>day</th>\n",
       "    </tr>\n",
       "  </thead>\n",
       "  <tbody>\n",
       "    <tr>\n",
       "      <th>0</th>\n",
       "      <td>Jurassic World Fallen Kingdom</td>\n",
       "      <td>https://powvideo.org/tk6wsdhzmzl9</td>\n",
       "      <td>https://playdede.us/pelicula/jurassic_world_el...</td>\n",
       "      <td>2023-11-06 08:43:00</td>\n",
       "      <td>3</td>\n",
       "      <td>2018</td>\n",
       "      <td>6.1</td>\n",
       "      <td>417719760.0</td>\n",
       "      <td>powvideo.org</td>\n",
       "      <td>playdede.us</td>\n",
       "      <td>Monday</td>\n",
       "    </tr>\n",
       "    <tr>\n",
       "      <th>1</th>\n",
       "      <td>Jurassic World Fallen Kingdom</td>\n",
       "      <td>https://powvideo.org/a3s0i9fmulr3</td>\n",
       "      <td>https://playdede.us/pelicula/jurassic_world_el...</td>\n",
       "      <td>2023-11-06 08:43:00</td>\n",
       "      <td>3</td>\n",
       "      <td>2018</td>\n",
       "      <td>6.1</td>\n",
       "      <td>417719760.0</td>\n",
       "      <td>powvideo.org</td>\n",
       "      <td>playdede.us</td>\n",
       "      <td>Monday</td>\n",
       "    </tr>\n",
       "    <tr>\n",
       "      <th>2</th>\n",
       "      <td>Jurassic World Fallen Kingdom</td>\n",
       "      <td>https://powvideo.org/47nrvjqayy9m</td>\n",
       "      <td>https://playdede.us/pelicula/jurassic_world_el...</td>\n",
       "      <td>2023-11-06 08:43:00</td>\n",
       "      <td>3</td>\n",
       "      <td>2018</td>\n",
       "      <td>6.1</td>\n",
       "      <td>417719760.0</td>\n",
       "      <td>powvideo.org</td>\n",
       "      <td>playdede.us</td>\n",
       "      <td>Monday</td>\n",
       "    </tr>\n",
       "    <tr>\n",
       "      <th>3</th>\n",
       "      <td>Jurassic World Fallen Kingdom</td>\n",
       "      <td>https://filemoon.sx/e/7ynant5ib50z</td>\n",
       "      <td>https://swatchseries.mx/movie/jurassic-world-f...</td>\n",
       "      <td>2023-11-12 03:53:00</td>\n",
       "      <td>3</td>\n",
       "      <td>2018</td>\n",
       "      <td>6.1</td>\n",
       "      <td>417719760.0</td>\n",
       "      <td>filemoon.sx</td>\n",
       "      <td>swatchseries.mx</td>\n",
       "      <td>Sunday</td>\n",
       "    </tr>\n",
       "    <tr>\n",
       "      <th>4</th>\n",
       "      <td>Jurassic World Fallen Kingdom</td>\n",
       "      <td>https://mixdrop.to/e/0v03xnddfrjpx0</td>\n",
       "      <td>https://assistironlinegratis.pro/jurassic-worl...</td>\n",
       "      <td>2023-11-06 12:52:00</td>\n",
       "      <td>3</td>\n",
       "      <td>2018</td>\n",
       "      <td>6.1</td>\n",
       "      <td>417719760.0</td>\n",
       "      <td>mixdrop.to</td>\n",
       "      <td>assistironlinegratis.pro</td>\n",
       "      <td>Monday</td>\n",
       "    </tr>\n",
       "  </tbody>\n",
       "</table>\n",
       "</div>"
      ],
      "text/plain": [
       "                           Title                                  url  \\\n",
       "0  Jurassic World Fallen Kingdom    https://powvideo.org/tk6wsdhzmzl9   \n",
       "1  Jurassic World Fallen Kingdom    https://powvideo.org/a3s0i9fmulr3   \n",
       "2  Jurassic World Fallen Kingdom    https://powvideo.org/47nrvjqayy9m   \n",
       "3  Jurassic World Fallen Kingdom   https://filemoon.sx/e/7ynant5ib50z   \n",
       "4  Jurassic World Fallen Kingdom  https://mixdrop.to/e/0v03xnddfrjpx0   \n",
       "\n",
       "                                         source_link                 date  \\\n",
       "0  https://playdede.us/pelicula/jurassic_world_el...  2023-11-06 08:43:00   \n",
       "1  https://playdede.us/pelicula/jurassic_world_el...  2023-11-06 08:43:00   \n",
       "2  https://playdede.us/pelicula/jurassic_world_el...  2023-11-06 08:43:00   \n",
       "3  https://swatchseries.mx/movie/jurassic-world-f...  2023-11-12 03:53:00   \n",
       "4  https://assistironlinegratis.pro/jurassic-worl...  2023-11-06 12:52:00   \n",
       "\n",
       "   type  year  Rate        Money          host                      page  \\\n",
       "0     3  2018   6.1  417719760.0  powvideo.org               playdede.us   \n",
       "1     3  2018   6.1  417719760.0  powvideo.org               playdede.us   \n",
       "2     3  2018   6.1  417719760.0  powvideo.org               playdede.us   \n",
       "3     3  2018   6.1  417719760.0   filemoon.sx           swatchseries.mx   \n",
       "4     3  2018   6.1  417719760.0    mixdrop.to  assistironlinegratis.pro   \n",
       "\n",
       "      day  \n",
       "0  Monday  \n",
       "1  Monday  \n",
       "2  Monday  \n",
       "3  Sunday  \n",
       "4  Monday  "
      ]
     },
     "execution_count": 25,
     "metadata": {},
     "output_type": "execute_result"
    }
   ],
   "source": [
    "df3.head()"
   ]
  },
  {
   "cell_type": "markdown",
   "metadata": {},
   "source": [
    "## Top 10 paginas de pirata por cantidad de videos"
   ]
  },
  {
   "cell_type": "code",
   "execution_count": 6,
   "metadata": {},
   "outputs": [],
   "source": [
    "top_10_pages = df3['page'].value_counts()[:10].reset_index()"
   ]
  },
  {
   "cell_type": "code",
   "execution_count": 9,
   "metadata": {},
   "outputs": [
    {
     "data": {
      "text/plain": [
       "<Axes: xlabel='page', ylabel='videos'>"
      ]
     },
     "execution_count": 9,
     "metadata": {},
     "output_type": "execute_result"
    },
    {
     "data": {
      "image/png": "[encoded data removed]",
      "text/plain": [
       "<Figure size 640x480 with 1 Axes>"
      ]
     },
     "metadata": {},
     "output_type": "display_data"
    }
   ],
   "source": [
    "plot = sns.barplot(top_10_pages, x=\"page\", y=\"count\")\n",
    "plt.xticks(rotation=80)\n",
    "plot.set(ylabel='videos')\n",
    "plot"
   ]
  },
  {
   "cell_type": "markdown",
   "metadata": {},
   "source": [
    "## Top 10 Host de videos"
   ]
  },
  {
   "cell_type": "code",
   "execution_count": 37,
   "metadata": {},
   "outputs": [
    {
     "data": {
      "text/plain": [
       "<Axes: xlabel='host', ylabel='videos'>"
      ]
     },
     "execution_count": 37,
     "metadata": {},
     "output_type": "execute_result"
    },
    {
     "data": {
      "image/png": "[encoded data removed]",
      "text/plain": [
       "<Figure size 640x480 with 1 Axes>"
      ]
     },
     "metadata": {},
     "output_type": "display_data"
    }
   ],
   "source": [
    "top_10_host = df3['host'].value_counts()[:10].reset_index()\n",
    "plot = sns.barplot(top_10_host, x=\"host\", y=\"count\")\n",
    "plt.xticks(rotation=80)\n",
    "plot.set(ylabel='videos')\n",
    "plot"
   ]
  },
  {
   "cell_type": "markdown",
   "metadata": {},
   "source": [
    "## Videos por day"
   ]
  },
  {
   "cell_type": "code",
   "execution_count": 10,
   "metadata": {},
   "outputs": [
    {
     "data": {
      "text/plain": [
       "<Axes: xlabel='day', ylabel='videos'>"
      ]
     },
     "execution_count": 10,
     "metadata": {},
     "output_type": "execute_result"
    },
    {
     "data": {
      "image/png": "[encoded data removed]",
      "text/plain": [
       "<Figure size 640x480 with 1 Axes>"
      ]
     },
     "metadata": {},
     "output_type": "display_data"
    }
   ],
   "source": [
    "plot = sns.countplot(df3, x=\"day\", order=['Monday', 'Tuesday', 'Wednesday', 'Thursday', 'Friday', 'Saturday', 'Sunday'], color='red')\n",
    "plt.xticks(rotation=80)\n",
    "plot.set(ylabel='videos')\n",
    "plot"
   ]
  },
  {
   "cell_type": "markdown",
   "metadata": {},
   "source": [
    "## Relacion entre el rate de la pelicula y la cantidad de videos"
   ]
  },
  {
   "cell_type": "code",
   "execution_count": 17,
   "metadata": {},
   "outputs": [
    {
     "data": {
      "text/plain": [
       "<seaborn.axisgrid.FacetGrid at 0x292414fcf10>"
      ]
     },
     "execution_count": 17,
     "metadata": {},
     "output_type": "execute_result"
    },
    {
     "data": {
      "image/png": "[encoded data removed]",
      "text/plain": [
       "<Figure size 500x500 with 1 Axes>"
      ]
     },
     "metadata": {},
     "output_type": "display_data"
    }
   ],
   "source": [
    "y = sns.displot(df3, x='Rate', bins=20, color='green')\n",
    "y.set(ylabel='videos')\n",
    "\n"
   ]
  },
  {
   "cell_type": "markdown",
   "metadata": {},
   "source": []
  },
  {
   "cell_type": "markdown",
   "metadata": {},
   "source": [
    "## Top 10 peliculas por Rate"
   ]
  },
  {
   "cell_type": "code",
   "execution_count": 41,
   "metadata": {},
   "outputs": [
    {
     "data": {
      "text/html": [
       "<div>\n",
       "<style scoped>\n",
       "    .dataframe tbody tr th:only-of-type {\n",
       "        vertical-align: middle;\n",
       "    }\n",
       "\n",
       "    .dataframe tbody tr th {\n",
       "        vertical-align: top;\n",
       "    }\n",
       "\n",
       "    .dataframe thead th {\n",
       "        text-align: right;\n",
       "    }\n",
       "</style>\n",
       "<table border=\"1\" class=\"dataframe\">\n",
       "  <thead>\n",
       "    <tr style=\"text-align: right;\">\n",
       "      <th></th>\n",
       "      <th>Title</th>\n",
       "      <th>Rate</th>\n",
       "    </tr>\n",
       "  </thead>\n",
       "  <tbody>\n",
       "    <tr>\n",
       "      <th>6196</th>\n",
       "      <td>The Office</td>\n",
       "      <td>9.0</td>\n",
       "    </tr>\n",
       "    <tr>\n",
       "      <th>9574</th>\n",
       "      <td>Enfermeras</td>\n",
       "      <td>8.9</td>\n",
       "    </tr>\n",
       "    <tr>\n",
       "      <th>17536</th>\n",
       "      <td>One Piece</td>\n",
       "      <td>8.9</td>\n",
       "    </tr>\n",
       "    <tr>\n",
       "      <th>9652</th>\n",
       "      <td>Pa quererte</td>\n",
       "      <td>8.7</td>\n",
       "    </tr>\n",
       "    <tr>\n",
       "      <th>5255</th>\n",
       "      <td>Dr House</td>\n",
       "      <td>8.7</td>\n",
       "    </tr>\n",
       "    <tr>\n",
       "      <th>9842</th>\n",
       "      <td>La Nieta Elegida</td>\n",
       "      <td>8.6</td>\n",
       "    </tr>\n",
       "    <tr>\n",
       "      <th>15397</th>\n",
       "      <td>Oppenheimer</td>\n",
       "      <td>8.5</td>\n",
       "    </tr>\n",
       "    <tr>\n",
       "      <th>9804</th>\n",
       "      <td>Café con aroma de mujer</td>\n",
       "      <td>8.4</td>\n",
       "    </tr>\n",
       "    <tr>\n",
       "      <th>8814</th>\n",
       "      <td>Yo Soy Betty La Fea</td>\n",
       "      <td>8.3</td>\n",
       "    </tr>\n",
       "    <tr>\n",
       "      <th>14263</th>\n",
       "      <td>The First Slam Dunk</td>\n",
       "      <td>8.3</td>\n",
       "    </tr>\n",
       "  </tbody>\n",
       "</table>\n",
       "</div>"
      ],
      "text/plain": [
       "                         Title  Rate\n",
       "6196                The Office   9.0\n",
       "9574                Enfermeras   8.9\n",
       "17536                One Piece   8.9\n",
       "9652               Pa quererte   8.7\n",
       "5255                  Dr House   8.7\n",
       "9842          La Nieta Elegida   8.6\n",
       "15397              Oppenheimer   8.5\n",
       "9804   Café con aroma de mujer   8.4\n",
       "8814       Yo Soy Betty La Fea   8.3\n",
       "14263      The First Slam Dunk   8.3"
      ]
     },
     "execution_count": 41,
     "metadata": {},
     "output_type": "execute_result"
    }
   ],
   "source": [
    "top_10_rate = df3.sort_values(by='Rate', ascending=False)[['Title','Rate']].drop_duplicates()[:10]\n",
    "top_10_rate"
   ]
  },
  {
   "cell_type": "markdown",
   "metadata": {},
   "source": [
    "## Peores 10 peliculas por Rate"
   ]
  },
  {
   "cell_type": "code",
   "execution_count": 42,
   "metadata": {},
   "outputs": [
    {
     "data": {
      "text/html": [
       "<div>\n",
       "<style scoped>\n",
       "    .dataframe tbody tr th:only-of-type {\n",
       "        vertical-align: middle;\n",
       "    }\n",
       "\n",
       "    .dataframe tbody tr th {\n",
       "        vertical-align: top;\n",
       "    }\n",
       "\n",
       "    .dataframe thead th {\n",
       "        text-align: right;\n",
       "    }\n",
       "</style>\n",
       "<table border=\"1\" class=\"dataframe\">\n",
       "  <thead>\n",
       "    <tr style=\"text-align: right;\">\n",
       "      <th></th>\n",
       "      <th>Title</th>\n",
       "      <th>Rate</th>\n",
       "    </tr>\n",
       "  </thead>\n",
       "  <tbody>\n",
       "    <tr>\n",
       "      <th>17538</th>\n",
       "      <td>Haunting of the Queen Mary</td>\n",
       "      <td>4.2</td>\n",
       "    </tr>\n",
       "    <tr>\n",
       "      <th>17553</th>\n",
       "      <td>Last Call, Rio!</td>\n",
       "      <td>4.4</td>\n",
       "    </tr>\n",
       "    <tr>\n",
       "      <th>18787</th>\n",
       "      <td>After 5: After Everything</td>\n",
       "      <td>4.6</td>\n",
       "    </tr>\n",
       "    <tr>\n",
       "      <th>9558</th>\n",
       "      <td>Los Rodríguez y El Más Allá</td>\n",
       "      <td>4.7</td>\n",
       "    </tr>\n",
       "    <tr>\n",
       "      <th>19558</th>\n",
       "      <td>The Exorcist Believer</td>\n",
       "      <td>5.0</td>\n",
       "    </tr>\n",
       "    <tr>\n",
       "      <th>15294</th>\n",
       "      <td>Vacaciones de Verano</td>\n",
       "      <td>5.0</td>\n",
       "    </tr>\n",
       "    <tr>\n",
       "      <th>12813</th>\n",
       "      <td>Halloween Ends</td>\n",
       "      <td>5.0</td>\n",
       "    </tr>\n",
       "    <tr>\n",
       "      <th>9596</th>\n",
       "      <td>El Final del Paraíso</td>\n",
       "      <td>5.0</td>\n",
       "    </tr>\n",
       "    <tr>\n",
       "      <th>13346</th>\n",
       "      <td>Rally Road Racers</td>\n",
       "      <td>5.1</td>\n",
       "    </tr>\n",
       "    <tr>\n",
       "      <th>19676</th>\n",
       "      <td>Invitación a un Asesinato</td>\n",
       "      <td>5.1</td>\n",
       "    </tr>\n",
       "  </tbody>\n",
       "</table>\n",
       "</div>"
      ],
      "text/plain": [
       "                             Title  Rate\n",
       "17538   Haunting of the Queen Mary   4.2\n",
       "17553              Last Call, Rio!   4.4\n",
       "18787    After 5: After Everything   4.6\n",
       "9558   Los Rodríguez y El Más Allá   4.7\n",
       "19558        The Exorcist Believer   5.0\n",
       "15294         Vacaciones de Verano   5.0\n",
       "12813               Halloween Ends   5.0\n",
       "9596          El Final del Paraíso   5.0\n",
       "13346            Rally Road Racers   5.1\n",
       "19676    Invitación a un Asesinato   5.1"
      ]
     },
     "execution_count": 42,
     "metadata": {},
     "output_type": "execute_result"
    }
   ],
   "source": [
    "peor_10_rate = df3.sort_values(by='Rate', ascending=True)[['Title','Rate']].drop_duplicates()[:10]\n",
    "peor_10_rate"
   ]
  },
  {
   "cell_type": "markdown",
   "metadata": {},
   "source": [
    "## Pelicula mas pirateada"
   ]
  },
  {
   "cell_type": "code",
   "execution_count": 43,
   "metadata": {},
   "outputs": [
    {
     "data": {
      "text/plain": [
       "'Oppenheimer'"
      ]
     },
     "execution_count": 43,
     "metadata": {},
     "output_type": "execute_result"
    }
   ],
   "source": [
    "top1_pelicula = df3[df3['type']==3]\n",
    "top1_pelicula = top1_pelicula['Title'].value_counts()\n",
    "top1_pelicula = top1_pelicula.index[0]\n",
    "top1_pelicula"
   ]
  },
  {
   "cell_type": "markdown",
   "metadata": {},
   "source": [
    "## Serie mas pirateada"
   ]
  },
  {
   "cell_type": "code",
   "execution_count": 44,
   "metadata": {},
   "outputs": [
    {
     "data": {
      "text/plain": [
       "'Pasión de gavilanes'"
      ]
     },
     "execution_count": 44,
     "metadata": {},
     "output_type": "execute_result"
    }
   ],
   "source": [
    "top1_serie = df3[df3['type']==4]\n",
    "top1_serie = top1_serie['Title'].value_counts()\n",
    "top1_serie = top1_serie.index[0]\n",
    "top1_serie"
   ]
  },
  {
   "cell_type": "markdown",
   "metadata": {},
   "source": [
    "## Top 15 peliculas por Money"
   ]
  },
  {
   "cell_type": "code",
   "execution_count": 46,
   "metadata": {},
   "outputs": [
    {
     "data": {
      "text/html": [
       "<div>\n",
       "<style scoped>\n",
       "    .dataframe tbody tr th:only-of-type {\n",
       "        vertical-align: middle;\n",
       "    }\n",
       "\n",
       "    .dataframe tbody tr th {\n",
       "        vertical-align: top;\n",
       "    }\n",
       "\n",
       "    .dataframe thead th {\n",
       "        text-align: right;\n",
       "    }\n",
       "</style>\n",
       "<table border=\"1\" class=\"dataframe\">\n",
       "  <thead>\n",
       "    <tr style=\"text-align: right;\">\n",
       "      <th></th>\n",
       "      <th>Title</th>\n",
       "      <th>Money</th>\n",
       "      <th>Rate</th>\n",
       "    </tr>\n",
       "  </thead>\n",
       "  <tbody>\n",
       "    <tr>\n",
       "      <th>103</th>\n",
       "      <td>Jurassic World</td>\n",
       "      <td>653406625.0</td>\n",
       "      <td>6.9</td>\n",
       "    </tr>\n",
       "    <tr>\n",
       "      <th>13072</th>\n",
       "      <td>The Super Mario Bros. Movie</td>\n",
       "      <td>574934330.0</td>\n",
       "      <td>7.1</td>\n",
       "    </tr>\n",
       "    <tr>\n",
       "      <th>1</th>\n",
       "      <td>Jurassic World Fallen Kingdom</td>\n",
       "      <td>417719760.0</td>\n",
       "      <td>6.1</td>\n",
       "    </tr>\n",
       "    <tr>\n",
       "      <th>12198</th>\n",
       "      <td>Jurassic World Dominion</td>\n",
       "      <td>376851080.0</td>\n",
       "      <td>5.6</td>\n",
       "    </tr>\n",
       "    <tr>\n",
       "      <th>12229</th>\n",
       "      <td>Minions The Rise of Gru</td>\n",
       "      <td>369695210.0</td>\n",
       "      <td>6.5</td>\n",
       "    </tr>\n",
       "    <tr>\n",
       "      <th>40</th>\n",
       "      <td>Minions</td>\n",
       "      <td>336045770.0</td>\n",
       "      <td>6.4</td>\n",
       "    </tr>\n",
       "    <tr>\n",
       "      <th>16074</th>\n",
       "      <td>Oppenheimer</td>\n",
       "      <td>324281160.0</td>\n",
       "      <td>8.5</td>\n",
       "    </tr>\n",
       "    <tr>\n",
       "      <th>9701</th>\n",
       "      <td>Despicable Me (2010)</td>\n",
       "      <td>251557985.0</td>\n",
       "      <td>7.6</td>\n",
       "    </tr>\n",
       "    <tr>\n",
       "      <th>9775</th>\n",
       "      <td>Fast &amp; Furious 9</td>\n",
       "      <td>238679850.0</td>\n",
       "      <td>7.0</td>\n",
       "    </tr>\n",
       "    <tr>\n",
       "      <th>12836</th>\n",
       "      <td>Puss in Boots The Last Wish</td>\n",
       "      <td>185535345.0</td>\n",
       "      <td>7.8</td>\n",
       "    </tr>\n",
       "    <tr>\n",
       "      <th>18585</th>\n",
       "      <td>Sound of Freedom</td>\n",
       "      <td>184072726.0</td>\n",
       "      <td>7.8</td>\n",
       "    </tr>\n",
       "    <tr>\n",
       "      <th>9133</th>\n",
       "      <td>Hobbs &amp; Shaw</td>\n",
       "      <td>173956935.0</td>\n",
       "      <td>6.5</td>\n",
       "    </tr>\n",
       "    <tr>\n",
       "      <th>10144</th>\n",
       "      <td>Sing 2</td>\n",
       "      <td>162790990.0</td>\n",
       "      <td>7.4</td>\n",
       "    </tr>\n",
       "    <tr>\n",
       "      <th>9111</th>\n",
       "      <td>How to Train Your Dragon: The Hidden World</td>\n",
       "      <td>160945505.0</td>\n",
       "      <td>7.4</td>\n",
       "    </tr>\n",
       "    <tr>\n",
       "      <th>13253</th>\n",
       "      <td>Fast X</td>\n",
       "      <td>145960660.0</td>\n",
       "      <td>5.8</td>\n",
       "    </tr>\n",
       "  </tbody>\n",
       "</table>\n",
       "</div>"
      ],
      "text/plain": [
       "                                            Title        Money  Rate\n",
       "103                                Jurassic World  653406625.0   6.9\n",
       "13072                 The Super Mario Bros. Movie  574934330.0   7.1\n",
       "1                   Jurassic World Fallen Kingdom  417719760.0   6.1\n",
       "12198                     Jurassic World Dominion  376851080.0   5.6\n",
       "12229                     Minions The Rise of Gru  369695210.0   6.5\n",
       "40                                        Minions  336045770.0   6.4\n",
       "16074                                 Oppenheimer  324281160.0   8.5\n",
       "9701                         Despicable Me (2010)  251557985.0   7.6\n",
       "9775                             Fast & Furious 9  238679850.0   7.0\n",
       "12836                 Puss in Boots The Last Wish  185535345.0   7.8\n",
       "18585                            Sound of Freedom  184072726.0   7.8\n",
       "9133                                 Hobbs & Shaw  173956935.0   6.5\n",
       "10144                                      Sing 2  162790990.0   7.4\n",
       "9111   How to Train Your Dragon: The Hidden World  160945505.0   7.4\n",
       "13253                                      Fast X  145960660.0   5.8"
      ]
     },
     "execution_count": 46,
     "metadata": {},
     "output_type": "execute_result"
    }
   ],
   "source": [
    "df_top15 = df3.sort_values(by='Money', ascending=False)[['Title', 'Money','Rate']].drop_duplicates()[:15]\n",
    "df_top15"
   ]
  },
  {
   "cell_type": "markdown",
   "metadata": {},
   "source": [
    "## Last 15 peliculas por Money"
   ]
  },
  {
   "cell_type": "code",
   "execution_count": 59,
   "metadata": {},
   "outputs": [
    {
     "data": {
      "text/html": [
       "<div>\n",
       "<style scoped>\n",
       "    .dataframe tbody tr th:only-of-type {\n",
       "        vertical-align: middle;\n",
       "    }\n",
       "\n",
       "    .dataframe tbody tr th {\n",
       "        vertical-align: top;\n",
       "    }\n",
       "\n",
       "    .dataframe thead th {\n",
       "        text-align: right;\n",
       "    }\n",
       "</style>\n",
       "<table border=\"1\" class=\"dataframe\">\n",
       "  <thead>\n",
       "    <tr style=\"text-align: right;\">\n",
       "      <th></th>\n",
       "      <th>Title</th>\n",
       "      <th>Money</th>\n",
       "      <th>Rate</th>\n",
       "    </tr>\n",
       "  </thead>\n",
       "  <tbody>\n",
       "    <tr>\n",
       "      <th>4742</th>\n",
       "      <td>La ley del deseo</td>\n",
       "      <td>72442.0</td>\n",
       "      <td>7.1</td>\n",
       "    </tr>\n",
       "    <tr>\n",
       "      <th>14133</th>\n",
       "      <td>Extraña forma de vida</td>\n",
       "      <td>486735.0</td>\n",
       "      <td>6.3</td>\n",
       "    </tr>\n",
       "    <tr>\n",
       "      <th>21736</th>\n",
       "      <td>Cuando Acecha la Maldad</td>\n",
       "      <td>544725.0</td>\n",
       "      <td>7.2</td>\n",
       "    </tr>\n",
       "    <tr>\n",
       "      <th>13346</th>\n",
       "      <td>Rally Road Racers</td>\n",
       "      <td>744169.0</td>\n",
       "      <td>5.1</td>\n",
       "    </tr>\n",
       "    <tr>\n",
       "      <th>14263</th>\n",
       "      <td>The First Slam Dunk</td>\n",
       "      <td>1275149.0</td>\n",
       "      <td>8.3</td>\n",
       "    </tr>\n",
       "    <tr>\n",
       "      <th>4753</th>\n",
       "      <td>Tacones lejanos</td>\n",
       "      <td>1710057.0</td>\n",
       "      <td>7.0</td>\n",
       "    </tr>\n",
       "    <tr>\n",
       "      <th>4755</th>\n",
       "      <td>Carne trémula</td>\n",
       "      <td>1785901.0</td>\n",
       "      <td>7.3</td>\n",
       "    </tr>\n",
       "    <tr>\n",
       "      <th>9832</th>\n",
       "      <td>Parallel Mothers</td>\n",
       "      <td>2297501.0</td>\n",
       "      <td>7.1</td>\n",
       "    </tr>\n",
       "    <tr>\n",
       "      <th>4799</th>\n",
       "      <td>La piel que habito</td>\n",
       "      <td>3185812.0</td>\n",
       "      <td>7.6</td>\n",
       "    </tr>\n",
       "    <tr>\n",
       "      <th>4751</th>\n",
       "      <td>Atame</td>\n",
       "      <td>4087361.0</td>\n",
       "      <td>7.0</td>\n",
       "    </tr>\n",
       "    <tr>\n",
       "      <th>9097</th>\n",
       "      <td>Dolor y Gloria</td>\n",
       "      <td>4567338.0</td>\n",
       "      <td>7.5</td>\n",
       "    </tr>\n",
       "    <tr>\n",
       "      <th>19655</th>\n",
       "      <td>No lo abras</td>\n",
       "      <td>4675092.0</td>\n",
       "      <td>5.3</td>\n",
       "    </tr>\n",
       "    <tr>\n",
       "      <th>14161</th>\n",
       "      <td>Operación Kandahar</td>\n",
       "      <td>4813132.0</td>\n",
       "      <td>6.0</td>\n",
       "    </tr>\n",
       "    <tr>\n",
       "      <th>4790</th>\n",
       "      <td>Los abrazos rotos</td>\n",
       "      <td>5014305.0</td>\n",
       "      <td>7.2</td>\n",
       "    </tr>\n",
       "    <tr>\n",
       "      <th>4782</th>\n",
       "      <td>La mala educación</td>\n",
       "      <td>5284284.0</td>\n",
       "      <td>7.4</td>\n",
       "    </tr>\n",
       "  </tbody>\n",
       "</table>\n",
       "</div>"
      ],
      "text/plain": [
       "                         Title      Money  Rate\n",
       "4742          La ley del deseo    72442.0   7.1\n",
       "14133    Extraña forma de vida   486735.0   6.3\n",
       "21736  Cuando Acecha la Maldad   544725.0   7.2\n",
       "13346        Rally Road Racers   744169.0   5.1\n",
       "14263      The First Slam Dunk  1275149.0   8.3\n",
       "4753           Tacones lejanos  1710057.0   7.0\n",
       "4755             Carne trémula  1785901.0   7.3\n",
       "9832          Parallel Mothers  2297501.0   7.1\n",
       "4799        La piel que habito  3185812.0   7.6\n",
       "4751                     Atame  4087361.0   7.0\n",
       "9097            Dolor y Gloria  4567338.0   7.5\n",
       "19655              No lo abras  4675092.0   5.3\n",
       "14161       Operación Kandahar  4813132.0   6.0\n",
       "4790         Los abrazos rotos  5014305.0   7.2\n",
       "4782         La mala educación  5284284.0   7.4"
      ]
     },
     "execution_count": 59,
     "metadata": {},
     "output_type": "execute_result"
    }
   ],
   "source": [
    "df_last15 = df3.sort_values(by='Money', ascending=True)[['Title', 'Money', 'Rate']].drop_duplicates()[:15]\n",
    "df_last15"
   ]
  },
  {
   "cell_type": "code",
   "execution_count": 53,
   "metadata": {},
   "outputs": [],
   "source": [
    "##Crear el mismo dataframe que no tenga valores nulos de rate + money\n",
    "df_sin_null = df3.dropna()"
   ]
  },
  {
   "cell_type": "markdown",
   "metadata": {},
   "source": [
    "## Hipotesis 1:\n",
    "Las peliculas con el rate mas alto son las peliculas que han generado mas dinero\n",
    "\n",
    "**H0**: No hay evidencia significativa de que las peliculas con mas Rate son las peliculas que mas dinero han generado.\n",
    "\n",
    "**H1**: Existe una diferencia significativa entre las peliculas con mas Rate y las peliculas que mas dinero han generado."
   ]
  },
  {
   "cell_type": "code",
   "execution_count": 57,
   "metadata": {},
   "outputs": [
    {
     "name": "stdout",
     "output_type": "stream",
     "text": [
      "Rechazamos la hipótesis nula \"No hay evidencia significativa de que las peliculas con mas Rate son las peliculas que mas dinero han generado\"\n"
     ]
    }
   ],
   "source": [
    "## ttest\n",
    "p_h = df_sin_null['Rate']\n",
    "p_m = df_sin_null['Money']\n",
    "\n",
    "ttest = stats.ttest_ind(p_h, p_m)\n",
    "ttest\n",
    "\n",
    "if ttest[1] < 0.05:\n",
    "    print('Rechazamos la hipótesis nula \"No hay evidencia significativa de que las peliculas con mas Rate son las peliculas que mas dinero han generado\"')\n",
    "else:\n",
    "    print('No rechazamos la hipótesis nula')"
   ]
  },
  {
   "cell_type": "markdown",
   "metadata": {},
   "source": [
    "## Hipotesis 2:\n",
    "Las peliculas que han generado mas dinero son las peliculas mas pirateadas\n",
    "\n",
    "**H0**: No hay evidencia significativa de que las peliculas con mas dinero son las mas pirateadas.\n",
    "\n",
    "**H1**: Existe una diferencia significativa entre las peliculas con mas dinero generado y la cantidad de videos."
   ]
  },
  {
   "cell_type": "code",
   "execution_count": 58,
   "metadata": {},
   "outputs": [
    {
     "name": "stdout",
     "output_type": "stream",
     "text": [
      "No rechazamos la hipótesis nula\n"
     ]
    }
   ],
   "source": [
    "## ttest\n",
    "p_h = df_sin_null['url'].count()\n",
    "p_m = df_sin_null['Money']\n",
    "\n",
    "ttest = stats.ttest_ind(p_h, p_m)\n",
    "ttest\n",
    "\n",
    "if ttest[1] < 0.05:\n",
    "    print('Rechazamos la hipótesis nula \"No hay evidencia significativa de que las peliculas con mas Rate son las peliculas que mas dinero han generado\"')\n",
    "else:\n",
    "    print('No rechazamos la hipótesis nula')"
   ]
  }
 ],
 "metadata": {
  "kernelspec": {
   "display_name": ".venv",
   "language": "python",
   "name": "python3"
  },
  "language_info": {
   "codemirror_mode": {
    "name": "ipython",
    "version": 3
   },
   "file_extension": ".py",
   "mimetype": "text/x-python",
   "name": "python",
   "nbconvert_exporter": "python",
   "pygments_lexer": "ipython3",
   "version": "3.11.5"
  },
  "orig_nbformat": 4
 },
 "nbformat": 4,
 "nbformat_minor": 2
}
