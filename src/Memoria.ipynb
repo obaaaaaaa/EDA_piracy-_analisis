{
 "cells": [
  {
   "cell_type": "markdown",
   "metadata": {},
   "source": [
    "## LOS DATOS:\n",
    "dos fuentes de datos, un archivo de csv(data_set_obada_excel) de datos capturados de paginas webs de pirateria de peliculas y series.\n",
    "El otro archivo de csv(data_set_obada2) son datos capturado con una api de imdb.com"
   ]
  },
  {
   "cell_type": "markdown",
   "metadata": {},
   "source": [
    "## La limpieza de datos\n",
    "\n",
    "cambiar el tipo de fecha a datetime, extraer informacion del raw dataset para crear nuevas columnas, juntar los dos archivos de csv en uno unico limpio"
   ]
  },
  {
   "cell_type": "markdown",
   "metadata": {},
   "source": []
  },
  {
   "cell_type": "markdown",
   "metadata": {},
   "source": [
    "## Analisis de datos\n",
    "\n",
    "sacar unas metricas:\n",
    "1-Top 10 paginas de pirata por cantidad de videos\n",
    "2-Top 10 Host de videos\n",
    "3-Videos capturados por day\n",
    "4-Top 10 peliculas por Rate\n",
    "5-Peores 10 peliculas por Rate\n",
    "6-Pelicula mas pirateada\n",
    "7-Serie mas pirateada\n",
    "8-Top 15 peliculas por Money\n",
    "9-Last 15 peliculas por Money\n",
    "10-un grafico para mostrar la relacion entre el rate de la pelicula y la cantidad de videos\n",
    "11-graficos para mostrar las paginas y host que tienen mas cantidad de videos (top 10)\n"
   ]
  },
  {
   "cell_type": "markdown",
   "metadata": {},
   "source": []
  },
  {
   "cell_type": "markdown",
   "metadata": {},
   "source": [
    "## Hipotesis\n",
    "\n",
    "1-Las peliculas con el rate mas alto son las peliculas que han generado mas dinero\n",
    "\n",
    "2-Las peliculas que han generado mas dinero son las peliculas mas pirateadas"
   ]
  }
 ],
 "metadata": {
  "kernelspec": {
   "display_name": "Python 3",
   "language": "python",
   "name": "python3"
  },
  "language_info": {
   "codemirror_mode": {
    "name": "ipython",
    "version": 3
   },
   "file_extension": ".py",
   "mimetype": "text/x-python",
   "name": "python",
   "nbconvert_exporter": "python",
   "pygments_lexer": "ipython3",
   "version": "3.11.5"
  }
 },
 "nbformat": 4,
 "nbformat_minor": 2
}
